{
 "cells": [
  {
   "cell_type": "markdown",
   "metadata": {},
   "source": [
    "### How to connect to Postgres"
   ]
  },
  {
   "cell_type": "markdown",
   "metadata": {},
   "source": [
    "> create docker volume and run the services:\n",
    "<br>",
    "`docker volume create --name pgdatax` <br>\n",
    "`docker-compose up -d` <br>\n",
    "\n",
    "> to take it down<br>\n",
    "> `docker-compose down`\n",
    "\n",
    "\n",
    "> <b>pgAdmin UI</b> is at localhost:5050 with login: `jamesbond@007.com` | password: `goldeneye` <br>\n",
    "  New Server > General: name `any_name` > Connection: hostname `postgres`,  username: `jamesbond`, password: `goldeneye` "
   ]
  },
  {
   "cell_type": "markdown",
   "metadata": {},
   "source": [
    "### Pandas & Postgres DB Connections"
   ]
  },
  {
   "cell_type": "code",
   "execution_count": 1,
   "metadata": {},
   "outputs": [],
   "source": [
    "from typing import Optional\n",
    "from dotenv import dotenv_values\n",
    "from sqlalchemy import create_engine\n",
    "import pandas as pd"
   ]
  },
  {
   "cell_type": "code",
   "execution_count": 2,
   "metadata": {},
   "outputs": [],
   "source": [
    "# configuration to local Postgres.\n",
    "config = dotenv_values(\"../containers/postgres/postgres.env\")\n",
    "HOST, PORT = \"127.0.0.1\", 5432  \n",
    "user_name = config.get(\"POSTGRES_USER\", \"postgres\")\n",
    "user_password = config.get(\"POSTGRES_PASSWORD\", \"admin\")"
   ]
  },
  {
   "cell_type": "code",
   "execution_count": 3,
   "metadata": {},
   "outputs": [],
   "source": [
    "# connection string to our service\n",
    "CONNECTION_STRING = f'postgresql://{user_name}:{user_password}@{HOST}:{PORT}'"
   ]
  },
  {
   "cell_type": "code",
   "execution_count": 4,
   "metadata": {},
   "outputs": [],
   "source": [
    "class Engine:\n",
    "\n",
    "    \"\"\"context managing engine\n",
    "    Args:\n",
    "        connection_string: string uri to postgres services\n",
    "        database: databas name. default to None\n",
    "    \"\"\"\n",
    "\n",
    "    def __init__(self, connection_string: str, database: Optional[str] = None) -> None:\n",
    "        self.connection_string = connection_string\n",
    "        self.database = database\n",
    "\n",
    "    def __enter__(self) -> create_engine:\n",
    "        if self.database is not None:\n",
    "            self.connection_string = f\"{self.connection_string}/{self.database}\"\n",
    "\n",
    "        self.engine = create_engine(self.connection_string)\n",
    "        return self.engine\n",
    "\n",
    "    def __exit__(self, type, value, traceback) -> None:\n",
    "        self.engine.dispose()"
   ]
  },
  {
   "cell_type": "code",
   "execution_count": 5,
   "metadata": {
    "jupyter": {
     "source_hidden": true
    }
   },
   "outputs": [],
   "source": [
    "# executing raw SQL query e.g. drop and create database\n",
    "DB_NAME = \"weapons\"\n",
    "with Engine(CONNECTION_STRING) as engine:\n",
    "    autoengine = engine.execution_options(isolation_level=\"AUTOCOMMIT\")\n",
    "    \n",
    "    with autoengine.connect() as conn:\n",
    "        conn.execute(f\"DROP DATABASE IF EXISTS {DB_NAME};\")\n",
    "        conn.execute(f\"CREATE DATABASE {DB_NAME};\")"
   ]
  },
  {
   "cell_type": "code",
   "execution_count": 7,
   "metadata": {},
   "outputs": [],
   "source": [
    "# sending dataframe to database weapons, replacing if it exists\n",
    "# create fake data in theme of 007\n",
    "dataf = pd.DataFrame({\n",
    "                    \"bullets\":[\"kolibri\", \"bonecrusher\", \"tranter\"], \n",
    "                    \"damage\":[.8, .76, .98],\n",
    "                    \"date\":pd.date_range(start=\"18/03/2021\", periods=3)\n",
    "                    })\n",
    "\n",
    "TABLE_NAME = \"bullets\"\n",
    "with Engine(CONNECTION_STRING, database=DB_NAME) as conn:\n",
    "   # pandas awesomeness\n",
    "    dataf.to_sql(TABLE_NAME, conn, \n",
    "                 if_exists=\"replace\", \n",
    "                 index=False)"
   ]
  },
  {
   "cell_type": "code",
   "execution_count": 10,
   "metadata": {},
   "outputs": [
    {
     "data": {
      "text/html": [
       "<div>\n",
       "<style scoped>\n",
       "    .dataframe tbody tr th:only-of-type {\n",
       "        vertical-align: middle;\n",
       "    }\n",
       "\n",
       "    .dataframe tbody tr th {\n",
       "        vertical-align: top;\n",
       "    }\n",
       "\n",
       "    .dataframe thead th {\n",
       "        text-align: right;\n",
       "    }\n",
       "</style>\n",
       "<table border=\"1\" class=\"dataframe\">\n",
       "  <thead>\n",
       "    <tr style=\"text-align: right;\">\n",
       "      <th></th>\n",
       "      <th>bullets</th>\n",
       "      <th>damage</th>\n",
       "      <th>creation_date</th>\n",
       "    </tr>\n",
       "  </thead>\n",
       "  <tbody>\n",
       "    <tr>\n",
       "      <th>0</th>\n",
       "      <td>kolibri</td>\n",
       "      <td>0.80</td>\n",
       "      <td>2021-03-18</td>\n",
       "    </tr>\n",
       "    <tr>\n",
       "      <th>1</th>\n",
       "      <td>tranter</td>\n",
       "      <td>0.98</td>\n",
       "      <td>2021-03-20</td>\n",
       "    </tr>\n",
       "  </tbody>\n",
       "</table>\n",
       "</div>"
      ],
      "text/plain": [
       "   bullets  damage creation_date\n",
       "0  kolibri    0.80    2021-03-18\n",
       "1  tranter    0.98    2021-03-20"
      ]
     },
     "execution_count": 10,
     "metadata": {},
     "output_type": "execute_result"
    }
   ],
   "source": [
    "# read data from postgres\n",
    "query = \"\"\"\n",
    "        SELECT \n",
    "            bullets\n",
    "            ,damage\n",
    "            ,\"date\" AS creation_date\n",
    "        FROM \"bullets\" \n",
    "        WHERE damage >= 0.78\n",
    "        \"\"\"\n",
    "with Engine(CONNECTION_STRING, database=DB_NAME) as conn:\n",
   
    "    result = pd.read_sql_query(query, conn)\n",
    "\n",
    "result"
   ]
  },
  {
   "cell_type": "code",
   "execution_count": 11,
   "metadata": {},
   "outputs": [
    {
     "data": {
      "text/plain": [
       "bullets                  object\n",
       "damage                  float64\n",
       "creation_date    datetime64[ns]\n",
       "dtype: object"
      ]
     },
     "execution_count": 11,
     "metadata": {},
     "output_type": "execute_result"
    }
   ],
   "source": [
    "result.dtypes"
   ]
  },
  {
   "cell_type": "code",
   "execution_count": 13,
   "metadata": {},
   "outputs": [],
   "source": [
    "# cleaning up ;)\n",
    "with Engine(CONNECTION_STRING) as engine:\n",
    "    autoengine = engine.execution_options(\n",
    "                            isolation_level=\"AUTOCOMMIT\"\n",
    "    )\n",
    "    with autoengine.connect() as conn:\n",
    "        conn.execute(f\"DROP DATABASE {DB_NAME};\")"
   ]
  },
  {
   "cell_type": "code",
   "execution_count": null,
   "metadata": {},
   "outputs": [],
   "source": []
  }
 ],
 "metadata": {
  "kernelspec": {
   "display_name": "DB",
   "language": "python",
   "name": "postgres"
  },
  "language_info": {
   "codemirror_mode": {
    "name": "ipython",
    "version": 3
   },
   "file_extension": ".py",
   "mimetype": "text/x-python",
   "name": "python",
   "nbconvert_exporter": "python",
   "pygments_lexer": "ipython3",
   "version": "3.8.8"
  }
 },
 "nbformat": 4,
 "nbformat_minor": 5
}
